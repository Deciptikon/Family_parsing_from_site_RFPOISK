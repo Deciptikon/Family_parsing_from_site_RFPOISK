{
  "cells": [
    {
      "cell_type": "markdown",
      "metadata": {
        "id": "view-in-github",
        "colab_type": "text"
      },
      "source": [
        "<a href=\"https://colab.research.google.com/github/Deciptikon/Family_parsing_from_site_RFPOISK/blob/main/Family_parsing_html_on_site_RFPOISK.ipynb\" target=\"_parent\"><img src=\"https://colab.research.google.com/assets/colab-badge.svg\" alt=\"Open In Colab\"/></a>"
      ]
    },
    {
      "cell_type": "markdown",
      "metadata": {
        "id": "OuuMmjcCQOIw"
      },
      "source": [
        "<a href=\"https://colab.research.google.com/github/dm-fedorov/python_basic/blob/master/task_parsing_html.ipynb\" target=\"_blank\"><img align=\"left\" src=\"https://colab.research.google.com/assets/colab-badge.svg\" alt=\"Open in Colab\" title=\"Open and Execute in Google Colaboratory\"></a>"
      ]
    },
    {
      "cell_type": "markdown",
      "source": [
        "Импорт бибилиотек"
      ],
      "metadata": {
        "id": "xI0UxUokuwTe"
      }
    },
    {
      "cell_type": "code",
      "source": [
        "import time\n",
        "import bs4  # импортируем Beautiful Soup\n",
        "import re # регулярка для поиска цифр\n",
        "import pandas as pd\n",
        "from google.colab import files\n"
      ],
      "metadata": {
        "id": "4m9P8NSGuzoy"
      },
      "execution_count": 1,
      "outputs": []
    },
    {
      "cell_type": "markdown",
      "metadata": {
        "id": "pTIAysVOQOIz"
      },
      "source": [
        "### Функции"
      ]
    },
    {
      "cell_type": "markdown",
      "source": [
        "Читение сайта по URL"
      ],
      "metadata": {
        "id": "L9qkEKzTyjy7"
      }
    },
    {
      "cell_type": "code",
      "execution_count": 2,
      "metadata": {
        "id": "Oy1o6W_xQOIz"
      },
      "outputs": [],
      "source": [
        "def read_url(url):\n",
        "    import urllib.request\n",
        "    with urllib.request.urlopen(url) as webpage:\n",
        "        text = webpage.read().decode('utf-8')\n",
        "    return text"
      ]
    },
    {
      "cell_type": "markdown",
      "source": [
        "Генерируем адрес страницы для чтения, по загатовке"
      ],
      "metadata": {
        "id": "Tt_4IV8AyivG"
      }
    },
    {
      "cell_type": "code",
      "source": [
        "def get_url_page(num_page: int = 0, min_num: int = 0, max_num: int = 100, family: str = 'bchkov/'):\n",
        "  base_url = 'https://rfpoisk.ru/family/'\n",
        "  prefix_page = '?page='\n",
        "  if (min_num <= num_page) and (num_page <= max_num):\n",
        "      return base_url + family + prefix_page + str(num_page)\n",
        "  return ''"
      ],
      "metadata": {
        "id": "5WE2XPzQyeVv"
      },
      "execution_count": 19,
      "outputs": []
    },
    {
      "cell_type": "markdown",
      "source": [
        "Функция парсинга, вытаскивает такую информацию из html-кода (класс \"info\") как:\n",
        "*   Ссылку на профиль (для возможности уточнения\\проверки);\n",
        "*   Имя персоны;\n",
        "*   День рождения (если он указан) в формате {ДД МЕСЯЦ ГГГГ};\n",
        "*   Адрес в виде пары {СТРАНА, ГОРОД}, если указан.\n"
      ],
      "metadata": {
        "id": "R9kx40dfbs_G"
      }
    },
    {
      "cell_type": "code",
      "source": [
        "# Постоянные элементы\n",
        "base_url  = 'https://rfpoisk.ru/'\n",
        "\n",
        "str_div_o = '<div class=\"info\">'\n",
        "str_a_o   = '<a '\n",
        "str_href_o= 'href=\"'\n",
        "# link\n",
        "str_href_c= '\">'\n",
        "# name\n",
        "str_a_c   = '</a>'\n",
        "# if (exist)##########################\n",
        "str_pclass= '<p class=\"birthday\">'  ##\n",
        "# birthday                          ##\n",
        "str_p_c   = '</p>'####################\n",
        "str_p_o   = '<p>'\n",
        "# addres\n",
        "str_p_c   = '</p>'\n",
        "str_div_c = '</div>'\n",
        "\n",
        "\n",
        "def data_from_class_info(info: str = ''):\n",
        "  t2 = info[len(str_div_o + str_a_o + str_href_o) : len(t) - len(str_p_c + str_div_c)]\n",
        "\n",
        "  s_url  = t2.find(str_href_c)\n",
        "  s_name = t2.find(str_a_c)\n",
        "  s_brt_o= t2.find(str_pclass)\n",
        "  s_brt_c= t2.find(str_p_c)\n",
        "\n",
        "  url    = base_url + t2[ : s_url]\n",
        "  name   = t2[s_url + len(str_href_c) : s_name]\n",
        "  brtd   = '_'\n",
        "  adr    = ''\n",
        "\n",
        "  if s_brt_o>0 :\n",
        "    brtd = t2[s_name + len(str_a_c + str_pclass) : s_brt_c]\n",
        "    adr  = t2[s_brt_c + len(str_p_o + str_p_c) : ]\n",
        "  else :\n",
        "    adr  = t2[s_name + len(str_a_c + str_p_o) : ]\n",
        "\n",
        "  return url, name, brtd, adr"
      ],
      "metadata": {
        "id": "VB_AYU1-bsPG"
      },
      "execution_count": 58,
      "outputs": []
    },
    {
      "cell_type": "markdown",
      "source": [
        "Загружаем страницы и вытаскиваем нужную информацию"
      ],
      "metadata": {
        "id": "jqqDbcvPt5yx"
      }
    },
    {
      "cell_type": "code",
      "source": [
        "max_num_page: int = 100       # максимальное количество страниц (например 79)\n",
        "parse_family = 'bchkov/'        # Фамилия, берётся из адреса страницы\n",
        "sleep_time = 5                 # задержка для уменьшения нагрузки на сайт\n",
        "\n",
        "counter = 0\n",
        "list_name = []\n",
        "list_url = []\n",
        "list_birthday = []\n",
        "list_addres = []\n",
        "\n",
        "for i in range(max_num_page + 1):\n",
        "  url_page = get_url_page(num_page=i, max_num=max_num_page, family=parse_family)\n",
        "  print('=========================================================================================')\n",
        "  print(f'== Page №{i}: {url_page}')\n",
        "  print('=========================================================================================')\n",
        "  print('')\n",
        "  print('______________________________________')\n",
        "\n",
        "  try:\n",
        "    text = read_url(url_page) # пытаемся прочесть страницу\n",
        "  except:\n",
        "    break # останавливаем если страницы с именами кончились\n",
        "\n",
        "  bs = bs4.BeautifulSoup(text, 'html.parser') #создаем парсер\n",
        "\n",
        "  names = bs.find_all(\"div\", {\"class\": \"info\"})\n",
        "\n",
        "  for j in range(len(names)):\n",
        "    t = str(names[j])\n",
        "    u, n, b, a = data_from_class_info(t)\n",
        "\n",
        "    list_url.append(u)\n",
        "    list_name.append(n)\n",
        "    list_birthday.append(b)\n",
        "    list_addres.append(a)\n",
        "\n",
        "    print(f'Persona №{counter}')\n",
        "    print(f'URL:     {u}')\n",
        "    print(f'Name:    {n}')\n",
        "    print(f'Birtday: {b}')\n",
        "    print(f'Addres:  {a}')\n",
        "    print('______________________________________')\n",
        "    print('')\n",
        "\n",
        "    counter += 1\n",
        "\n",
        "  time.sleep(sleep_time)"
      ],
      "metadata": {
        "id": "ZdIOw4Fit2Mk"
      },
      "execution_count": null,
      "outputs": []
    },
    {
      "cell_type": "markdown",
      "source": [
        "Сохраняем в таблицу эксель (в дальнейшем можно загрузить эту таблицу что бы не проводить полное сканирвоание повторно)"
      ],
      "metadata": {
        "id": "YljV4Yvg0oOB"
      }
    },
    {
      "cell_type": "code",
      "source": [
        "df = pd.DataFrame({\n",
        "    'link' : list_url,\n",
        "    'name': list_name,\n",
        "    'birthday': list_birthday,\n",
        "    'addres': list_addres\n",
        "})\n",
        "df.to_excel('info.xlsx') #'../info.xlsx'"
      ],
      "metadata": {
        "id": "i-dKjq3T0kjU"
      },
      "execution_count": 60,
      "outputs": []
    }
  ],
  "metadata": {
    "kernelspec": {
      "display_name": "Python 3 (ipykernel)",
      "language": "python",
      "name": "python3"
    },
    "language_info": {
      "codemirror_mode": {
        "name": "ipython",
        "version": 3
      },
      "file_extension": ".py",
      "mimetype": "text/x-python",
      "name": "python",
      "nbconvert_exporter": "python",
      "pygments_lexer": "ipython3",
      "version": "3.8.10"
    },
    "colab": {
      "provenance": [],
      "include_colab_link": true
    }
  },
  "nbformat": 4,
  "nbformat_minor": 0
}